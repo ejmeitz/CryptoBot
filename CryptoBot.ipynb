{
 "cells": [
  {
   "cell_type": "markdown",
   "metadata": {},
   "source": [
    "## Import Libraries"
   ]
  },
  {
   "cell_type": "code",
   "execution_count": 1,
   "metadata": {},
   "outputs": [],
   "source": [
    "from coinbase.wallet.client import Client\n",
    "import cbpro\n",
    "\n",
    "from datetime import datetime\n",
    "\n",
    "import matplotlib.pyplot as plt\n",
    "import numpy as np\n",
    "import pandas as pd\n"
   ]
  },
  {
   "cell_type": "markdown",
   "metadata": {},
   "source": [
    "## Connect to API for my Account"
   ]
  },
  {
   "cell_type": "code",
   "execution_count": 2,
   "metadata": {},
   "outputs": [
    {
     "data": {
      "text/plain": [
       "<APIObject @ 0x1c26975ea90> {\n",
       "  \"amount\": \"1432.09\",\n",
       "  \"base\": \"ETH\",\n",
       "  \"currency\": \"USD\"\n",
       "}"
      ]
     },
     "execution_count": 2,
     "metadata": {},
     "output_type": "execute_result"
    }
   ],
   "source": [
    "import config\n",
    "client = Client(config.apiKey, config.apiSecret, api_version = config.apiVersion)\n",
    "\n",
    "btcCurrencyPair = 'ETH-USD'\n",
    "\n",
    "price = client.get_spot_price(currency_pair = btcCurrencyPair)\n",
    "price"
   ]
  },
  {
   "cell_type": "markdown",
   "metadata": {},
   "source": [
    "## Useful Functions"
   ]
  },
  {
   "cell_type": "code",
   "execution_count": 3,
   "metadata": {},
   "outputs": [],
   "source": [
    "def UnixToDate(time): \n",
    "    return datetime.fromtimestamp(time)"
   ]
  },
  {
   "cell_type": "code",
   "execution_count": 4,
   "metadata": {},
   "outputs": [],
   "source": [
    "def isGranularityOption(g):\n",
    "    #1 min, 5 min, 15 min, 1 hr, 6 hrs, 1 day\n",
    "    possibleGranularities = [60, 300, 900, 3600, 21600, 86400] \n",
    "    return (g in possibleGranularities)"
   ]
  },
  {
   "cell_type": "code",
   "execution_count": 5,
   "metadata": {},
   "outputs": [],
   "source": [
    "from datetime import datetime\n",
    "def unixToISO8601(unixTime):\n",
    "    t =  int(unixTime)\n",
    "    return str(datetime.fromtimestamp(t).isoformat())"
   ]
  },
  {
   "cell_type": "code",
   "execution_count": 14,
   "metadata": {},
   "outputs": [],
   "source": [
    "def x_YearsAgoInUnixTime(years):\n",
    "    today = int(time.time())\n",
    "    secodnsPerYear = 31536000\n",
    "    return (today - (years*secodnsPerYear))\n",
    "def x_MonthsAgoInUnixTime(months):\n",
    "    today = int(time.time())\n",
    "    secodnsPerMonth = 2628000 #average sec/month\n",
    "    return (today - (months*secodnsPerMonth))\n",
    "def x_DaysAgoInUnixTime(days):\n",
    "    today = int(time.time())\n",
    "    secodnsPerDay = 86400\n",
    "    return (today - (days*secodnsPerDay))"
   ]
  },
  {
   "cell_type": "code",
   "execution_count": 6,
   "metadata": {},
   "outputs": [],
   "source": [
    "#API will only return 300 bins at once so if you input a big range you will need to call API multiple times\n",
    "def calcNumberofCallsNeeded(startTime_unix, endTime_unix, granularity):\n",
    "    maxBins = 300\n",
    "    maxTime = maxBins * granularity\n",
    "    if maxTime < endTime_unix - startTime_unix:\n",
    "        return ((endTime_unix - startTime_unix)//maxTime) + 1 #add 1 cause we want ceiling(x)\n",
    "    else:\n",
    "        return 1"
   ]
  },
  {
   "cell_type": "code",
   "execution_count": 7,
   "metadata": {},
   "outputs": [],
   "source": [
    "#takes ticker and granularity and a start and end time and returns a dataFrame of the data\n",
    "import time\n",
    "def getData(tickerPair, granularity, startTime_unix, endTime_unix = int(time.time())):\n",
    "    if isGranularityOption(granularity) and endTime_unix > startTime_unix:  \n",
    "        numCalls = calcNumberofCallsNeeded(startTime_unix,endTime_unix, granularity)\n",
    "\n",
    "        data = []\n",
    "        isoStart = unixToISO8601(startTime_unix)\n",
    "        isoEnd = unixToISO8601(endTime_unix)\n",
    "        if numCalls == 1:\n",
    "            data = public_client.get_product_historic_rates(tickerPair, isoStart, isoEnd, granularity)\n",
    "        else:\n",
    "            for i in range(numCalls + 1):\n",
    "                currentStep = 300*i*granularity #300 is max bins coinbase API will return at once\n",
    "                isoStart = unixToISO8601(endTime_unix-currentStep)\n",
    "                temp = public_client.get_product_historic_rates(tickerPair, isoStart, isoEnd, granularity)\n",
    "                isoEnd = isoStart\n",
    "                for element in temp: #data is 2D so loop to append, make prettier later\n",
    "                    data.append(element)\n",
    "           \n",
    "        df = pd.DataFrame(data, columns=['date', 'open', 'high', 'low', 'close','volume'])\n",
    "        df.set_index('date', inplace=True)\n",
    "        return df.iloc[::-1] #reverse order so its chronological\n",
    "    else:\n",
    "        print(\"Input error, use one of the following granularity values [60, 300, 900, 3600, 21600, 86400]\\\n",
    "        and make sure the start time is before the end time\")\n",
    "        return None"
   ]
  },
  {
   "cell_type": "code",
   "execution_count": 8,
   "metadata": {},
   "outputs": [],
   "source": [
    "import plotly.graph_objects as go\n",
    "def plotCandles(df):\n",
    "    \n",
    "    fig = go.Figure(data=[go.Candlestick(x=df.index,\n",
    "                    open=df['open'],\n",
    "                    high=df['high'],\n",
    "                    low=df['low'],\n",
    "                    close=df['close'])])\n",
    "    fig.show()"
   ]
  },
  {
   "cell_type": "code",
   "execution_count": 16,
   "metadata": {},
   "outputs": [],
   "source": [
    "def plotLine(df,ticker):\n",
    "    plt.figure(1,figsize=(8, 5))\n",
    "    plt.plot(df['close'],label = ticker)\n",
    "    plt.xlabel(\"Unix Time\")\n",
    "    plt.ylabel(\"Price-USD\")\n",
    "    start = UnixToDate(df.index[-1])\n",
    "    end = UnixToDate(df.index[0])\n",
    "    plt.title(\"{}-USD from {} to {}\".format(ticker,start,end))\n",
    "    plt.legend()\n",
    "    plt.show()"
   ]
  },
  {
   "cell_type": "markdown",
   "metadata": {},
   "source": [
    "## Trade Indicator Functions"
   ]
  },
  {
   "cell_type": "code",
   "execution_count": 65,
   "metadata": {},
   "outputs": [],
   "source": [
    "#given a dataframe it will calculate the RSI for each candle\n",
    "def relativeStrengthIndex(df, granularity = 86400, lookbackPeriod = 14):\n",
    "\n",
    "    data = df.drop('volume',axis = 1)\n",
    "    data[\"change\"] = np.nan\n",
    "    data[\"RSI\"] = np.nan\n",
    "    data['change'] = data['close'].rolling(window=2).apply(lambda x: x.iloc[1] - x.iloc[0])\n",
    "    data['RSI'] = data['change'].rolling(window=lookbackPeriod).apply(relativeStrengthIndexHelper)\n",
    "    \n",
    "    return data['RSI'] #subject to change not sure how I'm going to use, maybe just edit initial df and dont delete volume\n",
    "\n",
    "def relativeStrengthIndexHelperSMA(period): #period is last n changes in closing price\n",
    "    avgOfPositives = np.mean(period[period > 0])\n",
    "    avgOfNegatives = np.mean(period[period < 0])\n",
    "    relativeStrength =  avgOfPositives/avgOfNegatives\n",
    "    return (100 - (100/(1 + relativeStrength)))\n",
    "\n",
    "def relativeStrengthIndexHelperEMA(period):\n",
    "    avgOfPositives = np.mean(period[period > 0])\n",
    "    avgOfNegatives = np.mean(period[period < 0])\n",
    "    relativeStrength =  avgOfPositives/avgOfNegatives\n",
    "    return (100 - (100/(1 + relativeStrength)))\n",
    "\n",
    "def relativeStrengthIndexHelperSMMA(period):\n",
    "    avgOfPositives = np.mean(period[period > 0])\n",
    "    avgOfNegatives = np.mean(period[period < 0])\n",
    "    relativeStrength =  avgOfPositives/avgOfNegatives\n",
    "    return (100 - (100/(1 + relativeStrength)))"
   ]
  },
  {
   "cell_type": "markdown",
   "metadata": {},
   "source": [
    "## Example -- BTC Data"
   ]
  },
  {
   "cell_type": "code",
   "execution_count": 66,
   "metadata": {
    "scrolled": true
   },
   "outputs": [
    {
     "data": {
      "text/plain": [
       "date\n",
       "1437350400           NaN\n",
       "1437436800           NaN\n",
       "1437523200           NaN\n",
       "1437609600           NaN\n",
       "1437696000           NaN\n",
       "                 ...    \n",
       "1614038400    269.497708\n",
       "1614124800    319.469416\n",
       "1614211200    516.833750\n",
       "1614297600    540.830908\n",
       "1614384000    535.527186\n",
       "Name: RSI, Length: 2050, dtype: float64"
      ]
     },
     "execution_count": 66,
     "metadata": {},
     "output_type": "execute_result"
    }
   ],
   "source": [
    "public_client = cbpro.PublicClient()\n",
    "\n",
    "#careful, can overflow memory and break if you get too much data\n",
    "btc = getData(\"BTC-USD\", 86400, x_YearsAgoInUnixTime(5)) #BTC data from 5+ years ago at a bin size of 1 day\n",
    "#plotLine(btc,\"BTC\")\n",
    "\n",
    "temp = relativeStrengthIndex(btc, granularity = 86400, lookbackPeriod = 14)\n",
    "temp"
   ]
  }
 ],
 "metadata": {
  "kernelspec": {
   "display_name": "Python 3",
   "language": "python",
   "name": "python3"
  },
  "language_info": {
   "codemirror_mode": {
    "name": "ipython",
    "version": 3
   },
   "file_extension": ".py",
   "mimetype": "text/x-python",
   "name": "python",
   "nbconvert_exporter": "python",
   "pygments_lexer": "ipython3",
   "version": "3.8.5"
  }
 },
 "nbformat": 4,
 "nbformat_minor": 4
}
