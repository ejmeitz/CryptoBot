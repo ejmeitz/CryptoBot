{
 "cells": [
  {
   "cell_type": "markdown",
   "metadata": {},
   "source": [
    "## Import Libraries"
   ]
  },
  {
   "cell_type": "code",
   "execution_count": 24,
   "metadata": {},
   "outputs": [],
   "source": [
    "from coinbase.wallet.client import Client\n",
    "import cbpro\n",
    "\n",
    "from datetime import datetime\n",
    "\n",
    "import matplotlib.pyplot as plt\n",
    "import numpy as np\n",
    "import pandas as pd\n",
    "\n",
    "from abc import ABC, abstractmethod \n",
    "from enum import Enum\n",
    "\n",
    "%matplotlib inline"
   ]
  },
  {
   "cell_type": "markdown",
   "metadata": {},
   "source": [
    "## Connect to API for my Account"
   ]
  },
  {
   "cell_type": "code",
   "execution_count": 2,
   "metadata": {},
   "outputs": [
    {
     "data": {
      "text/plain": [
       "<APIObject @ 0x189d4d38cc0> {\n",
       "  \"amount\": \"1531.51\",\n",
       "  \"base\": \"ETH\",\n",
       "  \"currency\": \"USD\"\n",
       "}"
      ]
     },
     "execution_count": 2,
     "metadata": {},
     "output_type": "execute_result"
    }
   ],
   "source": [
    "import config\n",
    "client = Client(config.apiKey, config.apiSecret, api_version = config.apiVersion)\n",
    "\n",
    "btcCurrencyPair = 'ETH-USD'\n",
    "\n",
    "price = client.get_spot_price(currency_pair = btcCurrencyPair)\n",
    "price"
   ]
  },
  {
   "cell_type": "markdown",
   "metadata": {},
   "source": [
    "## Useful Functions"
   ]
  },
  {
   "cell_type": "code",
   "execution_count": 3,
   "metadata": {},
   "outputs": [],
   "source": [
    "def UnixToDate(time): \n",
    "    return datetime.fromtimestamp(time)"
   ]
  },
  {
   "cell_type": "code",
   "execution_count": 4,
   "metadata": {},
   "outputs": [],
   "source": [
    "def isGranularityOption(g):\n",
    "    #1 min, 5 min, 15 min, 1 hr, 6 hrs, 1 day\n",
    "    possibleGranularities = [60, 300, 900, 3600, 21600, 86400] \n",
    "    return (g in possibleGranularities)"
   ]
  },
  {
   "cell_type": "code",
   "execution_count": 5,
   "metadata": {},
   "outputs": [],
   "source": [
    "from datetime import datetime\n",
    "def unixToISO8601(unixTime):\n",
    "    t =  int(unixTime)\n",
    "    return str(datetime.fromtimestamp(t).isoformat())"
   ]
  },
  {
   "cell_type": "code",
   "execution_count": 25,
   "metadata": {},
   "outputs": [],
   "source": [
    "def x_YearsAgoInUnixTime(years):\n",
    "    today = int(time.time())\n",
    "    secodnsPerYear = 31536000\n",
    "    return (today - (years*secodnsPerYear))\n",
    "def x_MonthsAgoInUnixTime(months):\n",
    "    today = int(time.time())\n",
    "    secodnsPerMonth = 2628000 #average sec/month\n",
    "    return (today - (months*secodnsPerMonth))\n",
    "def x_DaysAgoInUnixTime(days):\n",
    "    today = int(time.time())\n",
    "    secodnsPerDay = 86400\n",
    "    return (today - (days*secodnsPerDay))\n",
    "\n",
    "class Granularities(Enum):\n",
    "    Minute = 60\n",
    "    FiveMinutes = 300\n",
    "    FifteenMinutes = 900\n",
    "    Hour = 3600\n",
    "    SixHours = 21600\n",
    "    Day = 86400\n",
    "    "
   ]
  },
  {
   "cell_type": "code",
   "execution_count": 7,
   "metadata": {},
   "outputs": [],
   "source": [
    "#API will only return 300 bins at once so if you input a big range you will need to call API multiple times\n",
    "def calcNumberofCallsNeeded(startTime_unix, endTime_unix, granularity):\n",
    "    maxBins = 300\n",
    "    maxTime = maxBins * granularity\n",
    "    if maxTime < endTime_unix - startTime_unix:\n",
    "        return ((endTime_unix - startTime_unix)//maxTime) + 1 #add 1 cause we want ceiling(x)\n",
    "    else:\n",
    "        return 1"
   ]
  },
  {
   "cell_type": "code",
   "execution_count": 8,
   "metadata": {},
   "outputs": [],
   "source": [
    "#takes ticker and granularity and a start and end time and returns a dataFrame of the data\n",
    "import time\n",
    "def getData(tickerPair, granularity, startTime_unix, endTime_unix = int(time.time())):\n",
    "    if isGranularityOption(granularity) and endTime_unix > startTime_unix:  \n",
    "        numCalls = calcNumberofCallsNeeded(startTime_unix,endTime_unix, granularity)\n",
    "\n",
    "        data = []\n",
    "        isoStart = unixToISO8601(startTime_unix)\n",
    "        isoEnd = unixToISO8601(endTime_unix)\n",
    "        if numCalls == 1:\n",
    "            data = public_client.get_product_historic_rates(tickerPair, isoStart, isoEnd, granularity)\n",
    "        else:\n",
    "            for i in range(numCalls + 1):\n",
    "                currentStep = 300*i*granularity #300 is max bins coinbase API will return at once\n",
    "                isoStart = unixToISO8601(endTime_unix-currentStep)\n",
    "                temp = public_client.get_product_historic_rates(tickerPair, isoStart, isoEnd, granularity)\n",
    "                isoEnd = isoStart\n",
    "                for element in temp: #data is 2D so loop to append, make prettier later\n",
    "                    data.append(element)\n",
    "           \n",
    "        df = pd.DataFrame(data, columns=['date', 'open', 'high', 'low', 'close','volume'])\n",
    "        df.set_index('date', inplace=True)\n",
    "        return df.iloc[::-1] #reverse order so its chronological\n",
    "    else:\n",
    "        print(\"Input error, use one of the following granularity values [60, 300, 900, 3600, 21600, 86400]\\\n",
    "        and make sure the start time is before the end time\")\n",
    "        return None"
   ]
  },
  {
   "cell_type": "code",
   "execution_count": 9,
   "metadata": {},
   "outputs": [],
   "source": [
    "import plotly.graph_objects as go\n",
    "def plotCandles(df):\n",
    "    \n",
    "    fig = go.Figure(data=[go.Candlestick(x=df.index,\n",
    "                    open=df['open'],\n",
    "                    high=df['high'],\n",
    "                    low=df['low'],\n",
    "                    close=df['close'])])\n",
    "    fig.show()"
   ]
  },
  {
   "cell_type": "code",
   "execution_count": 10,
   "metadata": {},
   "outputs": [],
   "source": [
    "def plotLine(df,ticker):\n",
    "    fig = plt.figure(1,figsize=(8, 5))\n",
    "    plt.plot(df['close'],label = ticker)\n",
    "    plt.xlabel(\"Unix Time\")\n",
    "    plt.ylabel(\"Price-USD\")\n",
    "    start = UnixToDate(df.index[-1])\n",
    "    end = UnixToDate(df.index[0])\n",
    "    plt.title(\"{}-USD from {} to {}\".format(ticker,start,end))\n",
    "    plt.legend()\n",
    "    return fig"
   ]
  },
  {
   "cell_type": "markdown",
   "metadata": {},
   "source": [
    "## Trade Indicator Functions"
   ]
  },
  {
   "cell_type": "markdown",
   "metadata": {},
   "source": [
    "#### 1) RSI - Can be calculate with SMA or EMA"
   ]
  },
  {
   "cell_type": "code",
   "execution_count": 21,
   "metadata": {},
   "outputs": [],
   "source": [
    "class AbstractTradingStrategy(ABC):\n",
    "    @abstractmethod\n",
    "    def calcIndicator(self,df,granularity):\n",
    "        pass\n",
    "    @abstractmethod\n",
    "    def buySignal(self):\n",
    "        pass\n",
    "    @abstractmethod\n",
    "    def sellSignal(self):\n",
    "        pass\n",
    "    \n",
    "class RSI(AbstractTradingStrategy):\n",
    "    \n",
    "    def __init__(self,lookbackPeriod = 14, funcType = \"SMA\", buyThreshold = 30, sellThreshold = 70):\n",
    "            self.lookbackPeriod = lookbackPeriod\n",
    "            self.buyThreshold = buyThreshold\n",
    "            self.sellThreshold = sellThreshold\n",
    "            self.funcType = funcType\n",
    "            \n",
    "    def calcIndicator(self, df, granularity = 86400):\n",
    "        data = df.drop('volume',axis = 1)\n",
    "        data[\"RSI\"] = np.nan\n",
    "        data['change'] = data['close'].diff(1)\n",
    "        if self.funcType == \"SMA\":\n",
    "            data['RSI'] = data['change'].rolling(window=self.lookbackPeriod).apply(RSI.SMA_Helper)\n",
    "        elif self.funcType == \"EMA\":\n",
    "            posChanges = data['change'].mask(data['change'] < 0, other = 0) #use mask to maintain length\n",
    "            negChanges =  data['change'].mask(data['change'] > 0, other = 0) \n",
    "            upEWM = posChanges.ewm(com=self.lookbackPeriod-1,min_periods = self.lookbackPeriod).mean()\n",
    "            downEWM = negChanges.ewm(com=self.lookbackPeriod-1,min_periods = self.lookbackPeriod).mean()\n",
    "            relativeStrength = abs(upEWM/downEWM)\n",
    "            data['RSI'] = (100 - (100/(1 + relativeStrength)))\n",
    "        else:\n",
    "            print(\"Not a valid RSI function type\")\n",
    "            return None\n",
    "\n",
    "        return data['RSI'] #subject to change not sure how I'm going to use, maybe just edit initial df and dont delete volume\n",
    "    \n",
    "    def buySignal(self,val):\n",
    "        return val <= self.buyThreshold \n",
    "    def sellSignal(self):\n",
    "        return val >= self.sellThreshold         \n",
    "    \n",
    "    def SMA_Helper(period): #period is last n changes in closing price\n",
    "        avgOfPositives = np.mean(period[period > 0])\n",
    "        avgOfNegatives = np.mean(period[period < 0])\n",
    "        relativeStrength =  abs(avgOfPositives/avgOfNegatives)\n",
    "        return (100 - (100/(1 + relativeStrength)))\n",
    "\n",
    "\n"
   ]
  },
  {
   "cell_type": "markdown",
   "metadata": {},
   "source": [
    "## Back Testing"
   ]
  },
  {
   "cell_type": "code",
   "execution_count": 26,
   "metadata": {},
   "outputs": [],
   "source": [
    "strategies = [RSI(),RSI(funcType = \"EMA\")]\n",
    "#the way its implemented now I cannot optimize the buy/sell thresholds\n",
    "#could put some in list manually but thats against point\n",
    "\n",
    "dateRange = [x_DaysAgoInUnixTime(100),x_DaysAgoInUnixTime(0)]\n",
    "tickerPair = \"BTC-USD\"\n",
    "granularity = Granularities.Day\n",
    "savePeriods = 30 #how much data should be kept at a time (30 granularities worth)\n",
    "balance = 1000 \n",
    "buyAmmount = balance/5 \n",
    "\n",
    "currentData = pd.DataFrame() #all data going back 'n' savePeriods\n",
    "for time in np.arange(dateRange[0],dateRange[1],granularity):\n",
    "    currentData = currentData.append(getData(tickerPair, granularity, time, time+granularity))\n",
    "    botsTime = time + granularity #anything before this time has \"already happened\" anyhting after is \"future\"\n"
   ]
  },
  {
   "cell_type": "markdown",
   "metadata": {},
   "source": [
    "## Example -- BTC Data"
   ]
  },
  {
   "cell_type": "code",
   "execution_count": 13,
   "metadata": {
    "scrolled": true
   },
   "outputs": [
    {
     "data": {
      "image/png": "[encoded data removed]",
      "text/plain": [
       "<Figure size 576x360 with 1 Axes>"
      ]
     },
     "metadata": {
      "needs_background": "light"
     },
     "output_type": "display_data"
    }
   ],
   "source": [
    "public_client = cbpro.PublicClient()\n",
    "\n",
    "#careful, can overflow memory and break if you get too much data\n",
    "granularity = 86400\n",
    "btc = getData(\"BTC-USD\", granularity, x_DaysAgoInUnixTime(100)) \n",
    "fig = plotLine(btc,\"BTC\")\n"
   ]
  },
  {
   "cell_type": "code",
   "execution_count": 22,
   "metadata": {},
   "outputs": [
    {
     "data": {
      "text/plain": [
       "<matplotlib.legend.Legend at 0x189d6418ee0>"
      ]
     },
     "execution_count": 22,
     "metadata": {},
     "output_type": "execute_result"
    },
    {
     "data": {
      "image/png": "[encoded data removed]",
      "text/plain": [
       "<Figure size 432x288 with 1 Axes>"
      ]
     },
     "metadata": {
      "needs_background": "light"
     },
     "output_type": "display_data"
    }
   ],
   "source": [
    "# plt.figure(2,figsize=(8, 5))\n",
    "# SMA = relativeStrengthIndex(btc)\n",
    "# EMA = relativeStrengthIndex(btc, funcType = \"EMA\")\n",
    "# plt.plot(SMA,label=\"SMA Method\")\n",
    "# plt.plot(EMA,label=\"EMA Method\")\n",
    "# plt.legend()\n",
    "#base = AbstractTradingStrategy()\n",
    "relativeStrengthSMA = RSI()\n",
    "relativeStrengthEMA = RSI(funcType = \"EMA\")\n",
    "SMA = relativeStrengthSMA.calcIndicator(btc,86400)\n",
    "EMA = relativeStrengthEMA.calcIndicator(btc,86400)\n",
    "plt.plot(SMA,label=\"SMA Method\")\n",
    "plt.plot(EMA,label=\"EMA Method\")\n",
    "plt.legend()"
   ]
  }
 ],
 "metadata": {
  "kernelspec": {
   "display_name": "Python 3",
   "language": "python",
   "name": "python3"
  },
  "language_info": {
   "codemirror_mode": {
    "name": "ipython",
    "version": 3
   },
   "file_extension": ".py",
   "mimetype": "text/x-python",
   "name": "python",
   "nbconvert_exporter": "python",
   "pygments_lexer": "ipython3",
   "version": "3.8.5"
  }
 },
 "nbformat": 4,
 "nbformat_minor": 4
}
